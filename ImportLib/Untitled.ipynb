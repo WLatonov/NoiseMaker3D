{
 "cells": [
  {
   "cell_type": "code",
   "execution_count": 1,
   "id": "7a1cad3d",
   "metadata": {},
   "outputs": [],
   "source": [
    "import NoiseGenerator"
   ]
  },
  {
   "cell_type": "code",
   "execution_count": 3,
   "id": "6fa71239",
   "metadata": {},
   "outputs": [],
   "source": [
    "a = NoiseGenerator.add(7, 79)"
   ]
  },
  {
   "cell_type": "code",
   "execution_count": 4,
   "id": "38d665b1",
   "metadata": {},
   "outputs": [
    {
     "data": {
      "text/plain": [
       "86"
      ]
     },
     "execution_count": 4,
     "metadata": {},
     "output_type": "execute_result"
    }
   ],
   "source": [
    "a"
   ]
  },
  {
   "cell_type": "code",
   "execution_count": null,
   "id": "0a867578",
   "metadata": {},
   "outputs": [],
   "source": [
    "NoiseGenerator.GenerateGammaNoisePy('C:/Users/20962270/source/repos/GCNMeshDenoiser19/GCNMeshDenoiser19/examples/example.obj', 0.1, 0.3, 0)"
   ]
  },
  {
   "cell_type": "code",
   "execution_count": null,
   "id": "9eca3e5b",
   "metadata": {},
   "outputs": [],
   "source": []
  }
 ],
 "metadata": {
  "kernelspec": {
   "display_name": "Python 3 (ipykernel)",
   "language": "python",
   "name": "python3"
  },
  "language_info": {
   "codemirror_mode": {
    "name": "ipython",
    "version": 3
   },
   "file_extension": ".py",
   "mimetype": "text/x-python",
   "name": "python",
   "nbconvert_exporter": "python",
   "pygments_lexer": "ipython3",
   "version": "3.10.9"
  }
 },
 "nbformat": 4,
 "nbformat_minor": 5
}
