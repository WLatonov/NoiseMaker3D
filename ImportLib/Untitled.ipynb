{
 "cells": [
  {
   "cell_type": "code",
   "execution_count": 1,
   "id": "7a1cad3d",
   "metadata": {},
   "outputs": [],
   "source": [
    "import CPPNoiseGenerator\n",
    "modelPath = 'C:/Users/20962270/Downloads/mesh_denoising_data/Synthetic/test/original/armadillo.obj'\n",
    "modelNoisedPath = 'C:/Users/admin/Downloads/original/original/vase100K_noise_topo.obj'"
   ]
  },
  {
   "cell_type": "code",
   "execution_count": 16,
   "id": "0a867578",
   "metadata": {},
   "outputs": [],
   "source": [
    "CPPNoiseGenerator.GenerateGammaNoisePy(modelPath, 0.1, 0.2, 0)"
   ]
  },
  {
   "cell_type": "code",
   "execution_count": 2,
   "id": "633f5bb1",
   "metadata": {},
   "outputs": [],
   "source": [
    "CPPNoiseGenerator.GenerateGammaNoisePy(modelPath, 0.1, 0.3, 0)"
   ]
  },
  {
   "cell_type": "code",
   "execution_count": 6,
   "id": "c96e4b09",
   "metadata": {},
   "outputs": [],
   "source": [
    "CPPNoiseGenerator.GenerateGammaNoisePy(modelPath, 0.1, 0.4, 0, 100)"
   ]
  },
  {
   "cell_type": "code",
   "execution_count": null,
   "id": "176a3ffe",
   "metadata": {},
   "outputs": [],
   "source": [
    "CPPNoiseGenerator.GenerateExponentialNoisePy(modelPath, 4, 0)"
   ]
  },
  {
   "cell_type": "code",
   "execution_count": null,
   "id": "1d12945e",
   "metadata": {},
   "outputs": [],
   "source": [
    "CPPNoiseGenerator.GenerateExponentialNoisePy(modelPath, 7, 0)"
   ]
  },
  {
   "cell_type": "code",
   "execution_count": null,
   "id": "11c15650",
   "metadata": {},
   "outputs": [],
   "source": [
    "CPPNoiseGenerator.GenerateExponentialNoisePy(modelPath, 10, 0)"
   ]
  },
  {
   "cell_type": "code",
   "execution_count": null,
   "id": "eda1f5af",
   "metadata": {},
   "outputs": [],
   "source": [
    "CPPNoiseGenerator.GenerateGaussianNoisePy(modelPath, 0.2, 0)"
   ]
  },
  {
   "cell_type": "code",
   "execution_count": null,
   "id": "2d35a8d2",
   "metadata": {},
   "outputs": [],
   "source": [
    "CPPNoiseGenerator.GenerateWeibullNoisePy(modelPath, 1, 0.1, 0)"
   ]
  },
  {
   "cell_type": "code",
   "execution_count": null,
   "id": "0973b777",
   "metadata": {},
   "outputs": [],
   "source": [
    "CPPNoiseGenerator.GenerateWeibullNoisePy(modelPath, 1, 0.2, 0)"
   ]
  },
  {
   "cell_type": "code",
   "execution_count": null,
   "id": "3e816d9d",
   "metadata": {},
   "outputs": [],
   "source": [
    "CPPNoiseGenerator.GenerateWeibullNoisePy(modelPath, 1, 0.3, 0)"
   ]
  },
  {
   "cell_type": "code",
   "execution_count": null,
   "id": "0e44b26a",
   "metadata": {},
   "outputs": [],
   "source": [
    "CPPNoiseGenerator.GenerateLogNormalNoisePy(modelPath, -5, 40, 0)"
   ]
  },
  {
   "cell_type": "code",
   "execution_count": null,
   "id": "7a1a1ccc",
   "metadata": {},
   "outputs": [],
   "source": [
    "CPPNoiseGenerator.GenerateLaplaceNoisePy(modelPath, 0.0, 0.3, 0)"
   ]
  },
  {
   "cell_type": "code",
   "execution_count": null,
   "id": "20b4dffb",
   "metadata": {},
   "outputs": [],
   "source": [
    "CPPNoiseGenerator.GenerateUniformNoisePy(modelPath, 0.2, 0.4, 0)"
   ]
  },
  {
   "cell_type": "code",
   "execution_count": null,
   "id": "c0314fd5",
   "metadata": {},
   "outputs": [],
   "source": [
    "CPPNoiseGenerator.GenerateExtremeValueNoisePy(modelPath, 0.0, 0.3, 0)"
   ]
  },
  {
   "cell_type": "code",
   "execution_count": null,
   "id": "9a01defa",
   "metadata": {},
   "outputs": [],
   "source": [
    "CPPNoiseGenerator.GenerateImpulsiveNoisePy(modelPath, 0.2, 0.5, 0)"
   ]
  },
  {
   "cell_type": "code",
   "execution_count": null,
   "id": "522890fc",
   "metadata": {},
   "outputs": [],
   "source": []
  },
  {
   "cell_type": "code",
   "execution_count": null,
   "id": "5e2b1848",
   "metadata": {},
   "outputs": [],
   "source": [
    "CPPNoiseGenerator.GenerateRandomVerticesTopologyNoisePy(modelPath, modelNoisedPath, 5)"
   ]
  },
  {
   "cell_type": "code",
   "execution_count": null,
   "id": "90ab25dd",
   "metadata": {},
   "outputs": [],
   "source": [
    "CPPNoiseGenerator.GenerateOneRandomClusterTopologyNoisePy(modelPath, modelNoisedPath, 0.5, 50, 40.0)"
   ]
  },
  {
   "cell_type": "code",
   "execution_count": null,
   "id": "05a1ae60",
   "metadata": {},
   "outputs": [],
   "source": [
    "CPPNoiseGenerator.GenerateSetOfRandomClustersTopologyNoisePy(modelPath, modelNoisedPath, 0.5, 50, 40.0, 4, 40, 0)"
   ]
  },
  {
   "cell_type": "code",
   "execution_count": null,
   "id": "ec62093d",
   "metadata": {},
   "outputs": [],
   "source": [
    "CPPNoiseGenerator.GenerateSetOfRandomClustersTopologyNoisePy(modelPath, modelNoisedPath, 0.5, 30, 20.0, 5, 40, 1)"
   ]
  },
  {
   "cell_type": "code",
   "execution_count": null,
   "id": "631d83a3",
   "metadata": {},
   "outputs": [],
   "source": [
    "CPPNoiseGenerator.GenerateSetPatchTopologyNoisePy(modelPath, modelNoisedPath, 0.005, 0.01, 0.01, 0.01, 0.05, 3, 30, 2, 3, 16)"
   ]
  }
 ],
 "metadata": {
  "kernelspec": {
   "display_name": "Python 3 (ipykernel)",
   "language": "python",
   "name": "python3"
  },
  "language_info": {
   "codemirror_mode": {
    "name": "ipython",
    "version": 3
   },
   "file_extension": ".py",
   "mimetype": "text/x-python",
   "name": "python",
   "nbconvert_exporter": "python",
   "pygments_lexer": "ipython3",
   "version": "3.10.9"
  }
 },
 "nbformat": 4,
 "nbformat_minor": 5
}
