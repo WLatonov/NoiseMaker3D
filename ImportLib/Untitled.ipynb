{
 "cells": [
  {
   "cell_type": "code",
   "execution_count": 1,
   "id": "7a1cad3d",
   "metadata": {},
   "outputs": [],
   "source": [
    "import NoiseGenerator\n",
    "modelPath = 'C:/Users/admin/Downloads/original/original/vase100K.obj'\n",
    "modelNoisedPath = 'C:/Users/admin/Downloads/original/original/vase100K_noise_topo.obj'"
   ]
  },
  {
   "cell_type": "code",
   "execution_count": null,
   "id": "0a867578",
   "metadata": {},
   "outputs": [],
   "source": [
    "NoiseGenerator.GenerateGammaNoisePy(modelPath, 0.1, 0.2, 0)"
   ]
  },
  {
   "cell_type": "code",
   "execution_count": null,
   "id": "176a3ffe",
   "metadata": {},
   "outputs": [],
   "source": [
    "NoiseGenerator.GenerateExponentialNoisePy(modelPath, 3, 0)"
   ]
  },
  {
   "cell_type": "code",
   "execution_count": null,
   "id": "eda1f5af",
   "metadata": {},
   "outputs": [],
   "source": [
    "NoiseGenerator.GenerateGaussianNoisePy(modelPath, 0.2, 0)"
   ]
  },
  {
   "cell_type": "code",
   "execution_count": null,
   "id": "2d35a8d2",
   "metadata": {},
   "outputs": [],
   "source": [
    "NoiseGenerator.GenerateWeibullNoisePy(modelPath, 1, 0.2, 0)"
   ]
  },
  {
   "cell_type": "code",
   "execution_count": null,
   "id": "0e44b26a",
   "metadata": {},
   "outputs": [],
   "source": [
    "NoiseGenerator.GenerateLogNormalNoisePy(modelPath, -5, 40, 0)"
   ]
  },
  {
   "cell_type": "code",
   "execution_count": null,
   "id": "7a1a1ccc",
   "metadata": {},
   "outputs": [],
   "source": [
    "NoiseGenerator.GenerateLaplaceNoisePy(modelPath, 0.0, 0.3, 0)"
   ]
  },
  {
   "cell_type": "code",
   "execution_count": null,
   "id": "20b4dffb",
   "metadata": {},
   "outputs": [],
   "source": [
    "NoiseGenerator.GenerateUniformNoisePy(modelPath, 0.2, 0.4, 0)"
   ]
  },
  {
   "cell_type": "code",
   "execution_count": null,
   "id": "c0314fd5",
   "metadata": {},
   "outputs": [],
   "source": [
    "NoiseGenerator.GenerateExtremeValueNoisePy(modelPath, 0.0, 0.3, 0)"
   ]
  },
  {
   "cell_type": "code",
   "execution_count": null,
   "id": "9a01defa",
   "metadata": {},
   "outputs": [],
   "source": [
    "NoiseGenerator.GenerateImpulsiveNoisePy(modelPath, 0.2, 0.5, 0)"
   ]
  },
  {
   "cell_type": "code",
   "execution_count": null,
   "id": "522890fc",
   "metadata": {},
   "outputs": [],
   "source": []
  },
  {
   "cell_type": "code",
   "execution_count": null,
   "id": "5e2b1848",
   "metadata": {},
   "outputs": [],
   "source": [
    "NoiseGenerator.GenerateRandomVerticesTopologyNoisePy(modelPath, modelNoisedPath, 5)"
   ]
  },
  {
   "cell_type": "code",
   "execution_count": null,
   "id": "90ab25dd",
   "metadata": {},
   "outputs": [],
   "source": [
    "NoiseGenerator.GenerateOneRandomClusterTopologyNoisePy(modelPath, modelNoisedPath, 0.5, 50, 40.0)"
   ]
  },
  {
   "cell_type": "code",
   "execution_count": null,
   "id": "05a1ae60",
   "metadata": {},
   "outputs": [],
   "source": [
    "NoiseGenerator.GenerateSetOfRandomClustersTopologyNoisePy(modelPath, modelNoisedPath, 0.5, 50, 40.0, 4, 40, 0)"
   ]
  },
  {
   "cell_type": "code",
   "execution_count": null,
   "id": "ec62093d",
   "metadata": {},
   "outputs": [],
   "source": [
    "NoiseGenerator.GenerateSetOfRandomClustersTopologyNoisePy(modelPath, modelNoisedPath, 0.5, 30, 20.0, 5, 40, 1)"
   ]
  },
  {
   "cell_type": "code",
   "execution_count": null,
   "id": "631d83a3",
   "metadata": {},
   "outputs": [],
   "source": [
    "NoiseGenerator.GenerateSetPatchTopologyNoisePy(modelPath, modelNoisedPath, 0.005, 0.01, 0.01, 0.01, 0.05, 3, 30, 2, 3, 16)"
   ]
  }
 ],
 "metadata": {
  "kernelspec": {
   "display_name": "Python 3",
   "language": "python",
   "name": "python3"
  },
  "language_info": {
   "codemirror_mode": {
    "name": "ipython",
    "version": 3
   },
   "file_extension": ".py",
   "mimetype": "text/x-python",
   "name": "python",
   "nbconvert_exporter": "python",
   "pygments_lexer": "ipython3",
   "version": "3.8.8"
  }
 },
 "nbformat": 4,
 "nbformat_minor": 5
}
