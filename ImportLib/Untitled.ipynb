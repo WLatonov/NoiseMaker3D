{
 "cells": [
  {
   "cell_type": "code",
   "execution_count": 1,
   "id": "7a1cad3d",
   "metadata": {},
   "outputs": [],
   "source": [
    "import CPPNoiseGenerator\n",
    "modelPath = 'C:/Users/20962270/Downloads/mesh_denoising_data/Synthetic/test/original/armadillo.obj'\n",
    "modelNoisedPath = 'C:/Users/admin/Downloads/original/original/vase100K_noise_topo.obj'"
   ]
  },
  {
   "cell_type": "code",
   "execution_count": 92,
   "id": "633f5bb1",
   "metadata": {},
   "outputs": [],
   "source": [
    "CPPNoiseGenerator.GenerateGammaNoisePy(modelPath, 0.1, 0.3, 0)"
   ]
  },
  {
   "cell_type": "code",
   "execution_count": 93,
   "id": "c96e4b09",
   "metadata": {},
   "outputs": [],
   "source": [
    "CPPNoiseGenerator.GenerateGammaNoisePy(modelPath, 0.1, 0.4, 0, 100)"
   ]
  },
  {
   "cell_type": "code",
   "execution_count": 94,
   "id": "176a3ffe",
   "metadata": {},
   "outputs": [],
   "source": [
    "CPPNoiseGenerator.GenerateExponentialNoisePy(modelPath, 4, 0)"
   ]
  },
  {
   "cell_type": "code",
   "execution_count": 95,
   "id": "1d12945e",
   "metadata": {},
   "outputs": [],
   "source": [
    "CPPNoiseGenerator.GenerateExponentialNoisePy(modelPath, 7, 0, 9)"
   ]
  },
  {
   "cell_type": "code",
   "execution_count": 96,
   "id": "11c15650",
   "metadata": {},
   "outputs": [],
   "source": [
    "CPPNoiseGenerator.GenerateExponentialNoisePy(modelPath, 10, 0)"
   ]
  },
  {
   "cell_type": "code",
   "execution_count": 97,
   "id": "eda1f5af",
   "metadata": {},
   "outputs": [],
   "source": [
    "CPPNoiseGenerator.GenerateGaussianNoisePy(modelPath, 0.2, 0, 0)"
   ]
  },
  {
   "cell_type": "code",
   "execution_count": 98,
   "id": "2d35a8d2",
   "metadata": {},
   "outputs": [],
   "source": [
    "CPPNoiseGenerator.GenerateWeibullNoisePy(modelPath, 1, 0.1, 0, 8)"
   ]
  },
  {
   "cell_type": "code",
   "execution_count": 99,
   "id": "0973b777",
   "metadata": {},
   "outputs": [],
   "source": [
    "CPPNoiseGenerator.GenerateWeibullNoisePy(modelPath, 1, 0.2, 0, 6)"
   ]
  },
  {
   "cell_type": "code",
   "execution_count": 100,
   "id": "3e816d9d",
   "metadata": {},
   "outputs": [],
   "source": [
    "CPPNoiseGenerator.GenerateWeibullNoisePy(modelPath, 1, 0.3)"
   ]
  },
  {
   "cell_type": "code",
   "execution_count": 101,
   "id": "0e44b26a",
   "metadata": {},
   "outputs": [],
   "source": [
    "CPPNoiseGenerator.GenerateLogNormalNoisePy(modelPath, -5, 40, 0, 4)"
   ]
  },
  {
   "cell_type": "code",
   "execution_count": 102,
   "id": "7a1a1ccc",
   "metadata": {},
   "outputs": [],
   "source": [
    "CPPNoiseGenerator.GenerateLaplaceNoisePy(modelPath, 0.0, 0.2, 0)"
   ]
  },
  {
   "cell_type": "code",
   "execution_count": 103,
   "id": "20b4dffb",
   "metadata": {},
   "outputs": [],
   "source": [
    "CPPNoiseGenerator.GenerateUniformNoisePy(modelPath, 0.2, 0.4, 0, 66)"
   ]
  },
  {
   "cell_type": "code",
   "execution_count": 104,
   "id": "c0314fd5",
   "metadata": {},
   "outputs": [],
   "source": [
    "CPPNoiseGenerator.GenerateExtremeValueNoisePy(modelPath, 0.0, 0.3, 0, 67)"
   ]
  },
  {
   "cell_type": "code",
   "execution_count": 105,
   "id": "9a01defa",
   "metadata": {},
   "outputs": [],
   "source": [
    "CPPNoiseGenerator.GenerateImpulsiveNoisePy(modelPath, 0.2, 0.5, 0, 1212)"
   ]
  },
  {
   "cell_type": "code",
   "execution_count": 32,
   "id": "52b25bc8",
   "metadata": {},
   "outputs": [],
   "source": [
    "CPPNoiseGenerator.GenerateCauchyNoisePy(modelPath, 1.0, 0.001, 0, 1212)"
   ]
  },
  {
   "cell_type": "code",
   "execution_count": 7,
   "id": "c90f43c5",
   "metadata": {},
   "outputs": [],
   "source": [
    "CPPNoiseGenerator.GenerateFisherNoisePy(modelPath, 100.0, 100.0, 0, 1212)"
   ]
  },
  {
   "cell_type": "code",
   "execution_count": 42,
   "id": "927450c6",
   "metadata": {},
   "outputs": [],
   "source": [
    "CPPNoiseGenerator.GenerateStudentNoisePy(modelPath, 5.0, 0.6, 0, 1212)"
   ]
  },
  {
   "cell_type": "code",
   "execution_count": 18,
   "id": "1fbbe39c",
   "metadata": {},
   "outputs": [],
   "source": [
    "CPPNoiseGenerator.GenerateChiSquaredNoisePy(modelPath, 0.1, 0, 1212)"
   ]
  },
  {
   "cell_type": "code",
   "execution_count": null,
   "id": "522890fc",
   "metadata": {},
   "outputs": [],
   "source": []
  },
  {
   "cell_type": "code",
   "execution_count": 14,
   "id": "5e2b1848",
   "metadata": {},
   "outputs": [],
   "source": [
    "CPPNoiseGenerator.GenerateRandomVerticesTopologyNoisePy(modelPath, modelNoisedPath, 5, 0)"
   ]
  },
  {
   "cell_type": "code",
   "execution_count": 17,
   "id": "90ab25dd",
   "metadata": {},
   "outputs": [],
   "source": [
    "CPPNoiseGenerator.GenerateOneRandomClusterTopologyNoisePy(modelPath, modelNoisedPath, 0.5, 20, 30.0, 60)"
   ]
  },
  {
   "cell_type": "code",
   "execution_count": 25,
   "id": "05a1ae60",
   "metadata": {},
   "outputs": [],
   "source": [
    "CPPNoiseGenerator.GenerateSetOfRandomClustersTopologyNoisePy(modelPath, modelNoisedPath, 0.5, 30, 40.0, 12, 20, 0, 330)"
   ]
  },
  {
   "cell_type": "code",
   "execution_count": null,
   "id": "ebe8b11a",
   "metadata": {},
   "outputs": [],
   "source": [
    "CPPNoiseGenerator.GenerateSetOfRandomClustersTopologyNoisePy(modelPath, modelNoisedPath, 0.5, 30, 20.0, 5, 40, 1)"
   ]
  },
  {
   "cell_type": "code",
   "execution_count": null,
   "id": "7ddc8076",
   "metadata": {},
   "outputs": [],
   "source": [
    "CPPNoiseGenerator.GenerateSetPatchTopologyNoisePy(modelPath, modelNoisedPath, 0.005, 0.01, 0.01, 0.01, 0.05, 3, 30, 2, 3, 16)"
   ]
  }
 ],
 "metadata": {
  "kernelspec": {
   "display_name": "Python 3 (ipykernel)",
   "language": "python",
   "name": "python3"
  },
  "language_info": {
   "codemirror_mode": {
    "name": "ipython",
    "version": 3
   },
   "file_extension": ".py",
   "mimetype": "text/x-python",
   "name": "python",
   "nbconvert_exporter": "python",
   "pygments_lexer": "ipython3",
   "version": "3.10.9"
  }
 },
 "nbformat": 4,
 "nbformat_minor": 5
}
